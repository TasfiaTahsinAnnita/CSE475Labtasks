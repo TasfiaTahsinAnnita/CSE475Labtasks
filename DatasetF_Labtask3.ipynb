{
  "nbformat": 4,
  "nbformat_minor": 0,
  "metadata": {
    "colab": {
      "provenance": [],
      "include_colab_link": true
    },
    "kernelspec": {
      "name": "python3",
      "display_name": "Python 3"
    },
    "language_info": {
      "name": "python"
    }
  },
  "cells": [
    {
      "cell_type": "markdown",
      "metadata": {
        "id": "view-in-github",
        "colab_type": "text"
      },
      "source": [
        "<a href=\"https://colab.research.google.com/github/TasfiaTahsinAnnita/CSE475Labtasks/blob/main/DatasetF_Labtask3.ipynb\" target=\"_parent\"><img src=\"https://colab.research.google.com/assets/colab-badge.svg\" alt=\"Open In Colab\"/></a>"
      ]
    },
    {
      "cell_type": "code",
      "source": [
        "from google.colab import drive\n",
        "drive.mount('/content/drive')"
      ],
      "metadata": {
        "colab": {
          "base_uri": "https://localhost:8080/"
        },
        "id": "aBGYt_KC-UDe",
        "outputId": "a9d1958c-b201-479e-d5a4-075fa64af47a"
      },
      "execution_count": null,
      "outputs": [
        {
          "output_type": "stream",
          "name": "stdout",
          "text": [
            "Drive already mounted at /content/drive; to attempt to forcibly remount, call drive.mount(\"/content/drive\", force_remount=True).\n"
          ]
        }
      ]
    },
    {
      "cell_type": "code",
      "source": [
        "import pandas as pd\n",
        "import numpy as np\n",
        "from sklearn.model_selection import train_test_split\n",
        "\n",
        "\n",
        "#These are popular ensemble methods used for classification (RandomForestClassifier, GradientBoostingClassifier)\n",
        "#This is an ensemble model that combines multiple classifiers to\n",
        "#improve prediction accuracy (VotingClassifier)\n",
        "\n",
        "from sklearn.ensemble import RandomForestClassifier, GradientBoostingClassifier, VotingClassifier\n",
        "\n",
        "#A simple and widely used\n",
        "#linear classifier, commonly used as a baseline in classification tasks.\n",
        "\n",
        "from sklearn.linear_model import LogisticRegression\n",
        "from sklearn.svm import SVC\n",
        "from sklearn.metrics import accuracy_score, classification_report\n",
        "import seaborn as sns\n",
        "import matplotlib.pyplot as plt\n",
        "\n",
        "#Used to standardize features by removing the mean and\n",
        "#scaling to unit variance, which improves model performance(StandardScaler)\n",
        "\n",
        "#Used to transform categorical data into a numerical format by encoding\n",
        "#categorical variables as binary (one-hot) vectors(OneHotEncoder)\n",
        "\n",
        "from sklearn.preprocessing import StandardScaler, OneHotEncoder\n",
        "\n",
        "#A powerful tool for transforming specific columns in a dataframe,\n",
        "#often used to apply different preprocessing steps to numerical\n",
        "#and categorical columns.\n",
        "from sklearn.compose import ColumnTransformer\n",
        "\n",
        "df = pd.read_csv('/content/drive/MyDrive/CSE475/cw_22_23_24.csv')\n",
        "#df = df.sample(frac=0.1, random_state=42)  # Use only 10% of data for testing\n",
        "\n",
        "df.head()\n",
        "\n",
        "X = df.drop(['status','pt_name','consultant'], axis=1)\n",
        "print(X)\n",
        "#This operation reduces each class label by 1, assuming\n",
        "#class labels originally start from 1. If classes were\n",
        "#initially numbered as 1, 2, 3, etc., they’ll now be 0, 1, 2, etc.\n",
        "\n",
        "\n",
        "\n",
        "#Many machine learning algorithms in Python\n",
        "#(especially in libraries like scikit-learn)\n",
        "#expect class labels to start from 0. This\n",
        "#adjustment simplifies compatibility with\n",
        "#these algorithms and avoids indexing issues.\n",
        "# y = df['loan_status']-1\n",
        "y = df['status']\n",
        "\n",
        "#Identifying Feature Types:\n",
        "\n",
        "# Split the features into categorical and numerical\n",
        "\n",
        "#Selects the columns containing categorical data\n",
        "categorical_features = X.select_dtypes(include=['object']).columns\n",
        "\n",
        "#Selects columns containing numerical data\n",
        "numerical_features = X.select_dtypes(include=['int64', 'float64']).columns\n",
        "\n",
        "\n",
        "#Data Preprocessing:\n",
        "\n",
        "# Standard scaling for numerical features only\n",
        "\n",
        "#will adjust the data so that each feature has\n",
        "#a mean of 0 and a standard deviation of 1.\n",
        "scaler = StandardScaler()\n",
        "\n",
        "#first learns the mean and standard deviation for\n",
        "#each numerical feature in X.\n",
        "#This helps ensure that all numerical features are on a similar scale.\n",
        "\n",
        "#this process centers the data around zero and adjusts the scale,\n",
        "#which often improves the performance of machine learning models\n",
        "#by preventing any one feature from dominating due to its larger scale.\n",
        "scaled_numerical_data = scaler.fit_transform(X[numerical_features])\n",
        "\n",
        "# One-hot encoding for categorical features only\n",
        "\n",
        "#The OneHotEncoder converts categorical variables\n",
        "#into binary (one-hot) encoded variables.\n",
        "encoder = OneHotEncoder(drop='first')\n",
        "encoded_categorical_data = encoder.fit_transform(X[categorical_features])\n",
        "\n",
        "# Concatenate the scaled numerical and encoded categorical data\n",
        "\n",
        "#Concatenates the scaled numerical and encoded categorical arrays horizontally,\n",
        "#combining them into a single dataset.\n",
        "processed_data = np.hstack([scaled_numerical_data, encoded_categorical_data.toarray()])\n",
        "\n",
        "# Convert to DataFrame with appropriate column names\n",
        "final_columns = numerical_features.tolist() + encoder.get_feature_names_out(categorical_features).tolist()\n",
        "final_df = pd.DataFrame(processed_data, columns=final_columns)\n",
        "\n",
        "#Stores the preprocessed features in data_X for modeling\n",
        "data_X = final_df.copy()\n"
      ],
      "metadata": {
        "colab": {
          "base_uri": "https://localhost:8080/"
        },
        "id": "indKxSF6-Vl4",
        "outputId": "0de8528a-1d51-43cd-fd67-e9178498ca4e"
      },
      "execution_count": null,
      "outputs": [
        {
          "output_type": "stream",
          "name": "stdout",
          "text": [
            "        adm_type shift_from  ssc  yr_nae  m_no       mrn sex disease  \\\n",
            "0     Shift From         ER   No       1     1  21845698   F   STEMI   \n",
            "1     Shift From         ER   No       2     2  22000071   M    ADHF   \n",
            "2     Shift From         ER   No       3     3  21838760   M     ihd   \n",
            "3     Shift From         ER   No       4     4  22000251   F     NaN   \n",
            "4     Shift From        Neu   No       5     5  21825110   F     NaN   \n",
            "...          ...        ...  ...     ...   ...       ...  ..     ...   \n",
            "9568  Shift From         ER  yes    1969   323   7051191   F     PPM   \n",
            "9569  Shift From         ER  yes    1970   324   7049012   F     CAD   \n",
            "9570  Shift From         ER  yes    1971   325   7049737   M      MI   \n",
            "9571  Shift From         ER  yes    1972   326   7044907   M    PPCI   \n",
            "9572  Shift From  Post Cath  yes    1973   327   7047427   F    AWMI   \n",
            "\n",
            "          D.O.A      D.O.D  L.O.S  \n",
            "0      1-Jan-22   1-Jan-22      0  \n",
            "1      1-Jan-22   5-Jan-22      4  \n",
            "2      1-Jan-22  10-Jan-22      9  \n",
            "3      1-Jan-22   7-Jan-22      6  \n",
            "4      1-Jan-22   2-Jan-22      1  \n",
            "...         ...        ...    ...  \n",
            "9568  30-Jun-24   5-Jul-24      5  \n",
            "9569  30-Jun-24   4-Jul-24      4  \n",
            "9570  30-Jun-24   4-Jul-24      4  \n",
            "9571  30-Jun-24   1-Jul-24      1  \n",
            "9572  30-Jun-24   1-Jul-24      1  \n",
            "\n",
            "[9573 rows x 11 columns]\n"
          ]
        }
      ]
    },
    {
      "cell_type": "code",
      "source": [
        "# Split the dataset into training and testing sets\n",
        "X_train, X_test, y_train, y_test = train_test_split(data_X, y, test_size=0.2, random_state=42, stratify=y)\n",
        "\n",
        "print(f\"Training set shape: {X_train.shape}\")\n",
        "print(f\"Testing set shape: {X_test.shape}\")\n"
      ],
      "metadata": {
        "colab": {
          "base_uri": "https://localhost:8080/"
        },
        "id": "jbz-2DM--uwC",
        "outputId": "56f70833-e1df-40e0-dbef-ce37c3f8b4b8"
      },
      "execution_count": null,
      "outputs": [
        {
          "output_type": "stream",
          "name": "stdout",
          "text": [
            "Training set shape: (7658, 12277)\n",
            "Testing set shape: (1915, 12277)\n"
          ]
        }
      ]
    },
    {
      "cell_type": "code",
      "source": [
        "# Random Forest Classifier\n",
        "rf_model = RandomForestClassifier(n_estimators=100, random_state=42)\n",
        "rf_model.fit(X_train, y_train)\n",
        "rf_predictions = rf_model.predict(X_test)\n",
        "\n",
        "# Evaluate Random Forest performance\n",
        "print(\"Random Forest Classifier Performance:\")\n",
        "print(classification_report(y_test, rf_predictions))\n"
      ],
      "metadata": {
        "colab": {
          "base_uri": "https://localhost:8080/"
        },
        "id": "mpw8JYI8-x3d",
        "outputId": "45b75ebc-fd5e-4ccd-9c81-c35d1c445104"
      },
      "execution_count": null,
      "outputs": [
        {
          "output_type": "stream",
          "name": "stdout",
          "text": [
            "Random Forest Classifier Performance:\n",
            "              precision    recall  f1-score   support\n",
            "\n",
            "         DOW       0.00      0.00      0.00         8\n",
            "   Discharge       0.90      1.00      0.95      1722\n",
            "      Expire       1.00      0.01      0.02       107\n",
            "        LAMA       0.00      0.00      0.00        37\n",
            "     Shifted       0.00      0.00      0.00        41\n",
            "\n",
            "    accuracy                           0.90      1915\n",
            "   macro avg       0.38      0.20      0.19      1915\n",
            "weighted avg       0.86      0.90      0.85      1915\n",
            "\n"
          ]
        },
        {
          "output_type": "stream",
          "name": "stderr",
          "text": [
            "/usr/local/lib/python3.10/dist-packages/sklearn/metrics/_classification.py:1531: UndefinedMetricWarning: Precision is ill-defined and being set to 0.0 in labels with no predicted samples. Use `zero_division` parameter to control this behavior.\n",
            "  _warn_prf(average, modifier, f\"{metric.capitalize()} is\", len(result))\n",
            "/usr/local/lib/python3.10/dist-packages/sklearn/metrics/_classification.py:1531: UndefinedMetricWarning: Precision is ill-defined and being set to 0.0 in labels with no predicted samples. Use `zero_division` parameter to control this behavior.\n",
            "  _warn_prf(average, modifier, f\"{metric.capitalize()} is\", len(result))\n",
            "/usr/local/lib/python3.10/dist-packages/sklearn/metrics/_classification.py:1531: UndefinedMetricWarning: Precision is ill-defined and being set to 0.0 in labels with no predicted samples. Use `zero_division` parameter to control this behavior.\n",
            "  _warn_prf(average, modifier, f\"{metric.capitalize()} is\", len(result))\n"
          ]
        }
      ]
    },
    {
      "cell_type": "code",
      "source": [
        "# Gradient Boosting Classifier\n",
        "gb_model = GradientBoostingClassifier(n_estimators=100, random_state=42)\n",
        "gb_model.fit(X_train, y_train)\n",
        "gb_predictions = gb_model.predict(X_test)\n",
        "\n",
        "# Evaluate Gradient Boosting performance\n",
        "print(\"Gradient Boosting Classifier Performance:\")\n",
        "print(classification_report(y_test, gb_predictions))\n"
      ],
      "metadata": {
        "colab": {
          "base_uri": "https://localhost:8080/"
        },
        "id": "FtG16vTt-2-k",
        "outputId": "28d38652-c415-4ad1-ec26-ec2a80ad3ce4"
      },
      "execution_count": null,
      "outputs": [
        {
          "output_type": "stream",
          "name": "stdout",
          "text": [
            "Gradient Boosting Classifier Performance:\n",
            "              precision    recall  f1-score   support\n",
            "\n",
            "         DOW       0.00      0.00      0.00         8\n",
            "   Discharge       0.90      1.00      0.95      1722\n",
            "      Expire       0.00      0.00      0.00       107\n",
            "        LAMA       0.00      0.00      0.00        37\n",
            "     Shifted       0.00      0.00      0.00        41\n",
            "\n",
            "    accuracy                           0.90      1915\n",
            "   macro avg       0.18      0.20      0.19      1915\n",
            "weighted avg       0.81      0.90      0.85      1915\n",
            "\n"
          ]
        }
      ]
    },
    {
      "cell_type": "code",
      "source": [
        "from sklearn.ensemble import StackingClassifier\n",
        "from sklearn.linear_model import LogisticRegression\n",
        "from sklearn.svm import SVC\n",
        "from sklearn.ensemble import RandomForestClassifier, GradientBoostingClassifier\n",
        "from sklearn.metrics import classification_report, accuracy_score\n",
        "\n",
        "# Define base models\n",
        "base_models = [\n",
        "    ('rf', RandomForestClassifier(n_estimators=50, random_state=42)),\n",
        "    ('gb', GradientBoostingClassifier(n_estimators=50, random_state=42))\n",
        "]\n",
        "\n",
        "# Define the meta-model\n",
        "meta_model = LogisticRegression(max_iter=1000, random_state=42)\n",
        "\n",
        "# Create the Stacking Classifier\n",
        "stacking_model = StackingClassifier(estimators=base_models, final_estimator=meta_model, cv=5)\n",
        "\n",
        "# Fit the stacking model on the training data\n",
        "stacking_model.fit(X_train, y_train)\n",
        "\n",
        "# Make predictions on the test data\n",
        "stacking_predictions = stacking_model.predict(X_test)\n",
        "\n",
        "# Evaluate the stacking model's performance\n",
        "print(\"Stacking Model Performance:\")\n",
        "print(classification_report(y_test, stacking_predictions))\n"
      ],
      "metadata": {
        "colab": {
          "base_uri": "https://localhost:8080/"
        },
        "id": "xvCopD5xBoH2",
        "outputId": "5580e332-2f82-413a-8ce8-503e3699c00b"
      },
      "execution_count": null,
      "outputs": [
        {
          "output_type": "stream",
          "name": "stdout",
          "text": [
            "Stacking Model Performance:\n",
            "              precision    recall  f1-score   support\n",
            "\n",
            "         DOW       0.00      0.00      0.00         8\n",
            "   Discharge       0.90      1.00      0.95      1722\n",
            "      Expire       0.50      0.01      0.02       107\n",
            "        LAMA       0.00      0.00      0.00        37\n",
            "     Shifted       0.00      0.00      0.00        41\n",
            "\n",
            "    accuracy                           0.90      1915\n",
            "   macro avg       0.28      0.20      0.19      1915\n",
            "weighted avg       0.84      0.90      0.85      1915\n",
            "\n"
          ]
        },
        {
          "output_type": "stream",
          "name": "stderr",
          "text": [
            "/usr/local/lib/python3.10/dist-packages/sklearn/metrics/_classification.py:1531: UndefinedMetricWarning: Precision is ill-defined and being set to 0.0 in labels with no predicted samples. Use `zero_division` parameter to control this behavior.\n",
            "  _warn_prf(average, modifier, f\"{metric.capitalize()} is\", len(result))\n",
            "/usr/local/lib/python3.10/dist-packages/sklearn/metrics/_classification.py:1531: UndefinedMetricWarning: Precision is ill-defined and being set to 0.0 in labels with no predicted samples. Use `zero_division` parameter to control this behavior.\n",
            "  _warn_prf(average, modifier, f\"{metric.capitalize()} is\", len(result))\n",
            "/usr/local/lib/python3.10/dist-packages/sklearn/metrics/_classification.py:1531: UndefinedMetricWarning: Precision is ill-defined and being set to 0.0 in labels with no predicted samples. Use `zero_division` parameter to control this behavior.\n",
            "  _warn_prf(average, modifier, f\"{metric.capitalize()} is\", len(result))\n"
          ]
        }
      ]
    },
    {
      "cell_type": "code",
      "source": [
        "# Voting Classifier (with hard voting)\n",
        "voting_clf = VotingClassifier(\n",
        "    estimators=[\n",
        "        ('rf', RandomForestClassifier(n_estimators=50, random_state=42)),\n",
        "        ('gb', GradientBoostingClassifier(n_estimators=50, random_state=42)),\n",
        "        ('lr', LogisticRegression(max_iter=1000, random_state=42))\n",
        "    ],\n",
        "    voting='hard'\n",
        ")\n",
        "\n",
        "voting_clf.fit(X_train, y_train)\n",
        "voting_predictions = voting_clf.predict(X_test)\n",
        "\n",
        "# Evaluate Voting Classifier performance\n",
        "print(\"Voting Classifier Performance (Hard Voting):\")\n",
        "print(classification_report(y_test, voting_predictions))\n"
      ],
      "metadata": {
        "colab": {
          "base_uri": "https://localhost:8080/"
        },
        "id": "m5s9O1gy-6EN",
        "outputId": "b04937d4-a9e3-4549-cbc3-c06ff1529ca5"
      },
      "execution_count": null,
      "outputs": [
        {
          "output_type": "stream",
          "name": "stdout",
          "text": [
            "Voting Classifier Performance (Hard Voting):\n",
            "              precision    recall  f1-score   support\n",
            "\n",
            "         DOW       0.00      0.00      0.00         8\n",
            "   Discharge       0.90      1.00      0.95      1722\n",
            "      Expire       1.00      0.01      0.02       107\n",
            "        LAMA       0.00      0.00      0.00        37\n",
            "     Shifted       0.00      0.00      0.00        41\n",
            "\n",
            "    accuracy                           0.90      1915\n",
            "   macro avg       0.38      0.20      0.19      1915\n",
            "weighted avg       0.86      0.90      0.85      1915\n",
            "\n"
          ]
        },
        {
          "output_type": "stream",
          "name": "stderr",
          "text": [
            "/usr/local/lib/python3.10/dist-packages/sklearn/metrics/_classification.py:1531: UndefinedMetricWarning: Precision is ill-defined and being set to 0.0 in labels with no predicted samples. Use `zero_division` parameter to control this behavior.\n",
            "  _warn_prf(average, modifier, f\"{metric.capitalize()} is\", len(result))\n",
            "/usr/local/lib/python3.10/dist-packages/sklearn/metrics/_classification.py:1531: UndefinedMetricWarning: Precision is ill-defined and being set to 0.0 in labels with no predicted samples. Use `zero_division` parameter to control this behavior.\n",
            "  _warn_prf(average, modifier, f\"{metric.capitalize()} is\", len(result))\n",
            "/usr/local/lib/python3.10/dist-packages/sklearn/metrics/_classification.py:1531: UndefinedMetricWarning: Precision is ill-defined and being set to 0.0 in labels with no predicted samples. Use `zero_division` parameter to control this behavior.\n",
            "  _warn_prf(average, modifier, f\"{metric.capitalize()} is\", len(result))\n"
          ]
        }
      ]
    },
    {
      "cell_type": "code",
      "source": [
        "# Compare accuracy across models\n",
        "models = {\n",
        "    'Random Forest': rf_model,\n",
        "    'Gradient Boosting': gb_model,\n",
        "    'Voting Classifier': voting_clf\n",
        "}\n",
        "\n",
        "for model_name, model in models.items():\n",
        "    predictions = model.predict(X_test)\n",
        "    accuracy = accuracy_score(y_test, predictions)\n",
        "    print(f\"{model_name} Accuracy: {accuracy:.4f}\")\n"
      ],
      "metadata": {
        "colab": {
          "base_uri": "https://localhost:8080/"
        },
        "id": "ZPlHpTLX-9VD",
        "outputId": "c66fae8b-2510-4848-9a8e-77548d744a20"
      },
      "execution_count": null,
      "outputs": [
        {
          "output_type": "stream",
          "name": "stdout",
          "text": [
            "Random Forest Accuracy: 0.8992\n",
            "Gradient Boosting Accuracy: 0.8966\n",
            "Voting Classifier Accuracy: 0.8997\n"
          ]
        }
      ]
    },
    {
      "cell_type": "code",
      "source": [
        "# Plot confusion matrix for the best-performing model\n",
        "from sklearn.metrics import ConfusionMatrixDisplay\n",
        "\n",
        "ConfusionMatrixDisplay.from_estimator(rf_model, X_test, y_test, cmap='Blues')\n",
        "plt.title(\"Confusion Matrix - Random Forest\")\n",
        "plt.show()\n"
      ],
      "metadata": {
        "colab": {
          "base_uri": "https://localhost:8080/",
          "height": 472
        },
        "id": "6XgScPAy_B7l",
        "outputId": "51563c30-26ab-4358-f116-5ebb87768b75"
      },
      "execution_count": null,
      "outputs": [
        {
          "output_type": "display_data",
          "data": {
            "text/plain": [
              "<Figure size 640x480 with 2 Axes>"
            ],
            "image/png": "[encoded data removed]"
          },
          "metadata": {}
        }
      ]
    },
    {
      "cell_type": "code",
      "source": [
        "from sklearn.model_selection import cross_val_score\n",
        "\n",
        "# Function to perform cross-validation\n",
        "def evaluate_model(model, X, y, cv=5):\n",
        "    scores = cross_val_score(model, X, y, cv=cv, scoring='accuracy')\n",
        "    print(f\"Cross-Validation Scores: {scores}\")\n",
        "    print(f\"Mean Accuracy: {scores.mean():.4f}\")\n",
        "    print(f\"Standard Deviation: {scores.std():.4f}\")\n",
        "    return scores\n"
      ],
      "metadata": {
        "id": "DRjM1pfnIBoA"
      },
      "execution_count": null,
      "outputs": []
    },
    {
      "cell_type": "code",
      "source": [
        "# Random Forest (Bagging)\n",
        "print(\"Random Forest (Bagging) Cross-Validation:\")\n",
        "rf_cv_scores = evaluate_model(RandomForestClassifier(n_estimators=50, random_state=42), data_X, y)\n",
        "\n",
        "# Gradient Boosting (Boosting)\n",
        "print(\"\\nGradient Boosting (Boosting) Cross-Validation:\")\n",
        "gb_cv_scores = evaluate_model(GradientBoostingClassifier(n_estimators=50, random_state=42), data_X, y)\n",
        "\n",
        "# Voting Classifier\n",
        "print(\"\\nVoting Classifier Cross-Validation:\")\n",
        "voting_clf = VotingClassifier(\n",
        "    estimators=[\n",
        "        ('rf', RandomForestClassifier(n_estimators=50, random_state=42)),\n",
        "        ('gb', GradientBoostingClassifier(n_estimators=50, random_state=42)),\n",
        "        ('lr', LogisticRegression(max_iter=1000, random_state=42))\n",
        "    ],\n",
        "    voting='hard'\n",
        ")\n",
        "voting_cv_scores = evaluate_model(voting_clf, data_X, y)\n",
        "\n",
        "# Stacking Classifier\n",
        "print(\"\\nStacking Classifier Cross-Validation:\")\n",
        "stacking_model = StackingClassifier(\n",
        "    estimators=[\n",
        "        ('rf', RandomForestClassifier(n_estimators=50, random_state=42)),\n",
        "        ('gb', GradientBoostingClassifier(n_estimators=50, random_state=42))\n",
        "    ],\n",
        "    final_estimator=LogisticRegression(max_iter=1000, random_state=42),\n",
        "    cv=5\n",
        ")\n",
        "stacking_cv_scores = evaluate_model(stacking_model, data_X, y)\n"
      ],
      "metadata": {
        "colab": {
          "base_uri": "https://localhost:8080/"
        },
        "id": "2GNIx8TJIGT_",
        "outputId": "034e4aab-13a4-41ba-a4f9-f805c55d175e"
      },
      "execution_count": null,
      "outputs": [
        {
          "output_type": "stream",
          "name": "stdout",
          "text": [
            "Random Forest (Bagging) Cross-Validation:\n",
            "Cross-Validation Scores: [0.89765013 0.89556136 0.89765013 0.88140021 0.88192268]\n",
            "Mean Accuracy: 0.8908\n",
            "Standard Deviation: 0.0075\n",
            "\n",
            "Gradient Boosting (Boosting) Cross-Validation:\n",
            "Cross-Validation Scores: [0.84751958 0.86318538 0.86684073 0.84326019 0.86415883]\n",
            "Mean Accuracy: 0.8570\n",
            "Standard Deviation: 0.0096\n",
            "\n",
            "Voting Classifier Cross-Validation:\n",
            "Cross-Validation Scores: [0.89817232 0.89869452 0.89765013 0.88975967 0.8892372 ]\n",
            "Mean Accuracy: 0.8947\n",
            "Standard Deviation: 0.0043\n",
            "\n",
            "Stacking Classifier Cross-Validation:\n"
          ]
        }
      ]
    },
    {
      "cell_type": "code",
      "source": [
        "# Create a comparison table\n",
        "cv_results = {\n",
        "    \"Model\": [\"Random Forest\", \"Gradient Boosting\", \"Voting Classifier\", \"Stacking Classifier\"],\n",
        "    \"Mean Accuracy\": [\n",
        "        rf_cv_scores.mean(),\n",
        "        gb_cv_scores.mean(),\n",
        "        voting_cv_scores.mean(),\n",
        "        stacking_cv_scores.mean()\n",
        "    ],\n",
        "    \"Std Deviation\": [\n",
        "        rf_cv_scores.std(),\n",
        "        gb_cv_scores.std(),\n",
        "        voting_cv_scores.std(),\n",
        "        stacking_cv_scores.std()\n",
        "    ]\n",
        "}\n",
        "\n",
        "# Convert to DataFrame for easy display\n",
        "cv_df = pd.DataFrame(cv_results)\n",
        "print(cv_df)\n"
      ],
      "metadata": {
        "id": "mYft_ysDIJJw"
      },
      "execution_count": null,
      "outputs": []
    },
    {
      "cell_type": "code",
      "source": [
        "!pip install shap"
      ],
      "metadata": {
        "id": "md4QDusDbQIq"
      },
      "execution_count": null,
      "outputs": []
    },
    {
      "cell_type": "code",
      "source": [
        "import shap\n",
        "\n",
        "# Select the best-performing model (example: Gradient Boosting)\n",
        "best_model = GradientBoostingClassifier(n_estimators=50, random_state=42)\n",
        "best_model.fit(X_train, y_train)\n",
        "\n",
        "# Initialize SHAP Explainer\n",
        "explainer = shap.Explainer(best_model, X_train)\n",
        "\n",
        "# Compute SHAP values for the test set\n",
        "shap_values = explainer(X_test)\n",
        "\n",
        "# Visualize feature importance (summary plot)\n",
        "shap.summary_plot(shap_values, X_test)\n",
        "\n",
        "# Visualize a single prediction (force plot for a specific instance)\n",
        "sample_idx = 0  # Change this index to analyze different instances\n",
        "shap.force_plot(explainer.expected_value[1], shap_values[sample_idx].values, X_test.iloc[sample_idx])\n"
      ],
      "metadata": {
        "id": "NNev-zoIbSo-"
      },
      "execution_count": null,
      "outputs": []
    },
    {
      "cell_type": "code",
      "source": [
        "!pip install lime\n"
      ],
      "metadata": {
        "id": "JftRXsxMbct5"
      },
      "execution_count": null,
      "outputs": []
    },
    {
      "cell_type": "code",
      "source": [
        "from lime.lime_tabular import LimeTabularExplainer\n",
        "\n",
        "# Initialize LIME Explainer\n",
        "lime_explainer = LimeTabularExplainer(\n",
        "    training_data=np.array(X_train),\n",
        "    feature_names=X_train.columns,\n",
        "    class_names=best_model.classes_,\n",
        "    mode='classification'\n",
        ")\n",
        "\n",
        "# Choose a test instance to explain\n",
        "test_instance = X_test.iloc[0].values.reshape(1, -1)\n",
        "\n",
        "# Generate explanation for the chosen instance\n",
        "lime_exp = lime_explainer.explain_instance(\n",
        "    data_row=test_instance[0],\n",
        "    predict_fn=best_model.predict_proba\n",
        ")\n",
        "\n",
        "# Visualize the explanation\n",
        "lime_exp.show_in_notebook()\n",
        "lime_exp.as_list()\n"
      ],
      "metadata": {
        "id": "bcS_aCa4bdbL"
      },
      "execution_count": null,
      "outputs": []
    },
    {
      "cell_type": "code",
      "source": [
        "from sklearn.metrics import classification_report, confusion_matrix, roc_auc_score\n",
        "\n",
        "# Function to evaluate the model and print metrics\n",
        "def evaluate_model_performance(model, X_train, X_test, y_train, y_test):\n",
        "    model.fit(X_train, y_train)\n",
        "    predictions = model.predict(X_test)\n",
        "    accuracy = accuracy_score(y_test, predictions)\n",
        "    print(f\"Accuracy: {accuracy:.4f}\")\n",
        "    print(\"Classification Report:\")\n",
        "    print(classification_report(y_test, predictions))\n",
        "    print(\"Confusion Matrix:\")\n",
        "    print(confusion_matrix(y_test, predictions))\n",
        "    return accuracy, classification_report(y_test, predictions, output_dict=True)\n",
        "\n",
        "# Random Forest (Bagging)\n",
        "print(\"Random Forest (Bagging):\")\n",
        "rf = RandomForestClassifier(n_estimators=50, random_state=42)\n",
        "rf_accuracy, rf_report = evaluate_model_performance(rf, X_train, X_test, y_train, y_test)\n",
        "\n",
        "# Gradient Boosting (Boosting)\n",
        "print(\"\\nGradient Boosting (Boosting):\")\n",
        "gb = GradientBoostingClassifier(n_estimators=50, random_state=42)\n",
        "gb_accuracy, gb_report = evaluate_model_performance(gb, X_train, X_test, y_train, y_test)\n",
        "\n",
        "# Voting Classifier\n",
        "print(\"\\nVoting Classifier:\")\n",
        "voting_clf = VotingClassifier(\n",
        "    estimators=[\n",
        "        ('rf', RandomForestClassifier(n_estimators=50, random_state=42)),\n",
        "        ('gb', GradientBoostingClassifier(n_estimators=50, random_state=42)),\n",
        "        ('lr', LogisticRegression(max_iter=1000, random_state=42))\n",
        "    ],\n",
        "    voting='hard'\n",
        ")\n",
        "voting_accuracy, voting_report = evaluate_model_performance(voting_clf, X_train, X_test, y_train, y_test)\n",
        "\n",
        "# Stacking Classifier\n",
        "print(\"\\nStacking Classifier:\")\n",
        "stacking_clf = StackingClassifier(\n",
        "    estimators=[\n",
        "        ('rf', RandomForestClassifier(n_estimators=50, random_state=42)),\n",
        "        ('gb', GradientBoostingClassifier(n_estimators=50, random_state=42))\n",
        "    ],\n",
        "    final_estimator=LogisticRegression(max_iter=1000, random_state=42),\n",
        "    cv=5\n",
        ")\n",
        "stacking_accuracy, stacking_report = evaluate_model_performance(stacking_clf, X_train, X_test, y_train, y_test)\n"
      ],
      "metadata": {
        "id": "mR8SSMJ-bxTU"
      },
      "execution_count": null,
      "outputs": []
    },
    {
      "cell_type": "code",
      "source": [
        "# Create a summary of metrics\n",
        "performance_summary = {\n",
        "    \"Model\": [\"Random Forest (Bagging)\", \"Gradient Boosting (Boosting)\", \"Voting Classifier\", \"Stacking Classifier\"],\n",
        "    \"Accuracy\": [rf_accuracy, gb_accuracy, voting_accuracy, stacking_accuracy],\n",
        "    \"Precision (Weighted Avg)\": [rf_report['weighted avg']['precision'], gb_report['weighted avg']['precision'],\n",
        "                                  voting_report['weighted avg']['precision'], stacking_report['weighted avg']['precision']],\n",
        "    \"Recall (Weighted Avg)\": [rf_report['weighted avg']['recall'], gb_report['weighted avg']['recall'],\n",
        "                               voting_report['weighted avg']['recall'], stacking_report['weighted avg']['recall']],\n",
        "    \"F1-Score (Weighted Avg)\": [rf_report['weighted avg']['f1-score'], gb_report['weighted avg']['f1-score'],\n",
        "                                 voting_report['weighted avg']['f1-score'], stacking_report['weighted avg']['f1-score']]\n",
        "}\n",
        "\n",
        "# Convert to a DataFrame for visualization\n",
        "performance_df = pd.DataFrame(performance_summary)\n",
        "print(performance_df)\n"
      ],
      "metadata": {
        "id": "0vWecFKsbydb"
      },
      "execution_count": null,
      "outputs": []
    },
    {
      "cell_type": "code",
      "source": [
        "import matplotlib.pyplot as plt\n",
        "\n",
        "# Plot the performance comparison\n",
        "performance_df.set_index(\"Model\").plot(kind=\"bar\", figsize=(12, 6))\n",
        "plt.title(\"Performance Comparison of Ensemble Methods\")\n",
        "plt.ylabel(\"Score\")\n",
        "plt.xlabel(\"Model\")\n",
        "plt.xticks(rotation=45)\n",
        "plt.legend(loc=\"lower right\")\n",
        "plt.grid(axis=\"y\")\n",
        "plt.show()\n"
      ],
      "metadata": {
        "id": "y30F7irUb357"
      },
      "execution_count": null,
      "outputs": []
    }
  ]
}